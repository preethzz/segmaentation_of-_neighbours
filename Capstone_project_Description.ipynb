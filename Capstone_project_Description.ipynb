{
 "cells": [
  {
   "cell_type": "markdown",
   "metadata": {},
   "source": [
    "## Introduction/Business Problem Section"
   ]
  },
  {
   "cell_type": "markdown",
   "metadata": {},
   "source": [
    "## Introduction:"
   ]
  },
  {
   "cell_type": "markdown",
   "metadata": {},
   "source": [
    "A hotelier wants to open an Indian Restaurant in Manhattan,New York. The success of any restaurant depends on multiple factors like location, menu, interior, consistency in taste and many other. hotelier approached us to help him to find a perfect location and menu for his restaurant. \n",
    "\n",
    "Using New York Neighborhood data and foursquare api we could find the neighborhood details, restaurant ratings and menu of each restaurant.We plan to find neighborhoods where there is good Indian restaurant and get the characteristics of that neighborhood using data analysis. Then we need to find neighborhoods with same character but with less Indian restaurant presence.\n",
    "\n",
    "Using menu option in foursquare api fetch all the menu from each restaurant and find the common items in best rating restaurant. we could get an idea of what people like to have or what kind of food is more popular. \n",
    "\n",
    "Using K mean clustering cluster those restaurants into groups according to the menu, price and ratings. it will help us to get a view among the restaurants.\n"
   ]
  },
  {
   "cell_type": "markdown",
   "metadata": {},
   "source": [
    "### Data "
   ]
  },
  {
   "cell_type": "markdown",
   "metadata": {},
   "source": [
    "1.From NYU Spatial Repository data feed we get New York Borough and neighborhoods data.\n",
    "\n",
    "2.Using geopy package we could get, geo location like latitude and longitude of each location \n",
    "\n",
    "3.from foursquare api we can get, \n",
    "    <br>\n",
    "        3.1. Restaurant Names\n",
    "    <br>\n",
    "        3.2. Id\n",
    "    <br>\n",
    "        3.3. location\n",
    "    <br>\n",
    "        3.4. ratings \n",
    "    <br>\n",
    "        3.5. menu \n"
   ]
  }
 ],
 "metadata": {
  "kernelspec": {
   "display_name": "Python 3",
   "language": "python",
   "name": "python3"
  },
  "language_info": {
   "codemirror_mode": {
    "name": "ipython",
    "version": 3
   },
   "file_extension": ".py",
   "mimetype": "text/x-python",
   "name": "python",
   "nbconvert_exporter": "python",
   "pygments_lexer": "ipython3",
   "version": "3.7.1"
  }
 },
 "nbformat": 4,
 "nbformat_minor": 2
}
